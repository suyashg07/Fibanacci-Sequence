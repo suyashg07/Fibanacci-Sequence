{
 "cells": [
  {
   "cell_type": "code",
   "execution_count": null,
   "metadata": {},
   "outputs": [],
   "source": [
    "def not_a_natural_number(n):\n",
    "    for i in str(n):\n",
    "        if not (i in \"0123456789\"):\n",
    "            return True\n",
    "    if int(n) < 1:\n",
    "        return True\n",
    "    else:\n",
    "        return False\n",
    "def fibonacci_sequence(n):\n",
    "    if not_a_natural_number(n):\n",
    "        while not_a_natural_number(n):\n",
    "            n = input(\"Please enter a natural number: \")\n",
    "    n = int(n)\n",
    "    sequence = [1, 1]\n",
    "    if n > 2:\n",
    "        for i in range(n-2):\n",
    "            sequence.append(sequence[-1] + sequence[-2])\n",
    "    else:\n",
    "        sequence = sequence[:n]\n",
    "    return sequence\n",
    "def list_sum(list):\n",
    "    sum = 0\n",
    "    for item in list:\n",
    "        sum += item\n",
    "    return sum\n",
    "print(\"Hi there! This code will help you list any number of the first terms of the fibonacci sequence and also find their sum.\")\n",
    "sequence = fibonacci_sequence(input(\"What number of terms do you want?\"))\n",
    "print(\"The sequence is:\")\n",
    "for i in range(len(sequence)):\n",
    "    print(str(i+1) + \") \" + str(sequence[i]))\n",
    "print(\"sum: \" + str(list_sum(sequence)))"
   ]
  }
 ],
 "metadata": {
  "kernelspec": {
   "display_name": "Python 3 (ipykernel)",
   "language": "python",
   "name": "python3"
  },
  "language_info": {
   "codemirror_mode": {
    "name": "ipython",
    "version": 3
   },
   "file_extension": ".py",
   "mimetype": "text/x-python",
   "name": "python",
   "nbconvert_exporter": "python",
   "pygments_lexer": "ipython3",
   "version": "3.11.7"
  }
 },
 "nbformat": 4,
 "nbformat_minor": 4
}
